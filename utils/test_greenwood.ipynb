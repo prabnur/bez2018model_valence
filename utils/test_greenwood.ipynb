{
 "cells": [
  {
   "cell_type": "code",
   "execution_count": null,
   "metadata": {},
   "outputs": [],
   "source": [
    "from model import get_ERB_cf_list\n",
    "import matplotlib.pyplot as plt\n",
    "\n",
    "cf_list = get_ERB_cf_list(num_cf=3500, min_cf=125, max_cf=16e3)\n",
    "# round cf_list to nearest 100\n",
    "# cf_list = np.round(cf_list, -2)\n",
    "plt.hist(cf_list, bins=100)\n",
    "plt.show()"
   ]
  },
  {
   "cell_type": "code",
   "execution_count": null,
   "metadata": {},
   "outputs": [],
   "source": [
    "def greenwood(x):\n",
    "    return 165.4 * (10 ** ((x / 3500) * 2.1) - 0.88)\n",
    "cfs = [greenwood(x) for x in range(1, 3501)]\n",
    "cfs_filtered = list(filter(lambda cf: (cf > 124.9) and (cf < 16e3), cfs))\n",
    "print(len(cfs_filtered))\n",
    "# for cf in cfs:\n",
    "#     print(cf)\n",
    "plt.hist(cfs_filtered, bins=100)\n",
    "plt.show()"
   ]
  }
 ],
 "metadata": {
  "language_info": {
   "name": "python"
  },
  "orig_nbformat": 4
 },
 "nbformat": 4,
 "nbformat_minor": 2
}
