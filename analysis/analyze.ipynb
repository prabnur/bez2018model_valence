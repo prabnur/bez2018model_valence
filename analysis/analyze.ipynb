{
 "cells": [
  {
   "cell_type": "code",
   "execution_count": null,
   "metadata": {},
   "outputs": [],
   "source": [
    "from model import get_spikes\n",
    "from temporal_analysis import get_avg_isi, to_compare\n",
    "import matplotlib.pyplot as plt\n",
    "\n",
    "root_note = \"C4\"\n",
    "root_spikes = get_spikes(root_note)\n",
    "root_avg_isi = get_avg_isi(root_spikes)\n",
    "\n",
    "# avg_isi_s = [(note, get_avg_isi(get_spikes(note))) for note in to_compare]\n",
    "\n",
    "def plot_avg_isi(note, avg_isi):\n",
    "    x = list(range(len(avg_isi)))\n",
    "    y = avg_isi\n",
    "    plt.plot(x, y)\n",
    "    plt.title(f\"Average ISI for {note}\")\n",
    "    plt.xlabel(\"Spike Train\")\n",
    "    plt.ylabel(\"Average ISI\")\n",
    "    plt.show()\n"
   ]
  },
  {
   "cell_type": "code",
   "execution_count": null,
   "metadata": {},
   "outputs": [],
   "source": [
    "import numpy as np\n",
    "from scipy.io import wavfile\n",
    "\n",
    "def plot_counts(note, counts):\n",
    "    x = np.arange(len(counts))\n",
    "    plt.plot(x, counts)\n",
    "    plt.title(note)\n",
    "    plt.xlabel(\"Spike Train\")\n",
    "    plt.ylabel(\"Counts\")\n",
    "    plt.show()\n",
    "\n",
    "NOTES_DIR = \"../Iowa Notes/Mono\"\n",
    "\n",
    "def plot_fourier_transform(note):\n",
    "    # Read the WAV file\n",
    "    sample_rate, data = wavfile.read(f'${NOTES_DIR}/{note}.wav')\n",
    "\n",
    "    # If the audio file has multiple channels (e.g., stereo), take one channel\n",
    "    # if len(data.shape) == 2:\n",
    "    #     data = data[:, 0]\n",
    "\n",
    "    # Perform the Fourier Transform\n",
    "    frequencies = np.fft.fftfreq(len(data), 1/sample_rate)\n",
    "    positive_freq_idxs = np.where(frequencies > 0)\n",
    "    frequencies = frequencies[positive_freq_idxs]\n",
    "    fourier_transform = np.fft.fft(data)\n",
    "    fourier_transform = fourier_transform[positive_freq_idxs]\n",
    "\n",
    "    # Plot the Fourier Transform\n",
    "    # plt.figure(figsize=(10, 5))\n",
    "    plt.title('Fourier Transform')\n",
    "    plt.xlabel('Frequency (Hz)')\n",
    "    plt.ylabel('Amplitude')\n",
    "    plt.plot(frequencies, np.abs(fourier_transform))\n",
    "    plt.show()"
   ]
  },
  {
   "cell_type": "code",
   "execution_count": null,
   "metadata": {},
   "outputs": [],
   "source": [
    "from spatial_analysis import count_spikes_optimized\n",
    "\n",
    "print(\"WTF\")\n",
    "\n",
    "note = root_note\n",
    "spikes = get_spikes(note)\n",
    "\n",
    "avg_isi = get_avg_isi(spikes)\n",
    "plot_avg_isi(note, avg_isi)\n",
    "\n",
    "counts = count_spikes_optimized(spikes)\n",
    "plot_counts(note, counts)\n",
    "\n",
    "plot_fourier_transform(note)"
   ]
  },
  {
   "cell_type": "code",
   "execution_count": null,
   "metadata": {},
   "outputs": [],
   "source": [
    "import numpy as np\n",
    "\n",
    "def compare_abs(isi_a, isi_b):\n",
    "    \"\"\"\n",
    "    Compare two isi arrays and return the absolute difference.\n",
    "    \"\"\"\n",
    "    return np.sum(np.abs(isi_a - isi_b))\n",
    "\n",
    "def compare(isi_a, isi_b):\n",
    "    \"\"\"\n",
    "    Compare two isi arrays and return the difference.\n",
    "    \"\"\"\n",
    "    return np.sum(isi_a - isi_b)\n",
    "\n",
    "diffs = []\n",
    "abs_diffs = []\n",
    "reference_isi = avg_isi_s[0][1]\n",
    "for note, avg_isi in avg_isi_s:\n",
    "    print(note)\n",
    "    diffs.append(compare(reference_isi, avg_isi))\n",
    "    abs_diffs.append(compare_abs(reference_isi, avg_isi))\n",
    "\n",
    "plt.plot(diffs)\n",
    "plt.show()\n",
    "plt.plot(abs_diffs)\n",
    "plt.show()"
   ]
  },
  {
   "cell_type": "code",
   "execution_count": null,
   "metadata": {},
   "outputs": [],
   "source": [
    "in_order = [\"C3\", \"C#3\", \"D3\", \"D#3\", \"E3\", \"F3\", \"F#3\", \"G3\", \"G#3\", \"A3\", \"A#3\", \"B3\", \"C4\", \"C#4\", \"D4\", \"D#4\", \"E4\", \"F4\", \"F#4\", \"G4\", \"G#4\", \"A4\", \"A#4\", \"B4\",\"C5\", \"C#5\", \"D5\", \"D#5\", \"E5\", \"F5\", \"F#5\", \"G5\", \"G#5\", \"A5\", \"A#5\", \"B5\"]\n",
    "avg_isi = {}\n",
    "\n",
    "for note in in_order:\n",
    "    avg_isi[note] = get_avg_isi(get_spikes(note))\n",
    "\n",
    "# Double width of plot\n",
    "plt.rcParams[\"figure.figsize\"] = (20, 10)\n",
    "# plt.plot(in_order, diffs)\n",
    "# plt.show()\n",
    "# plt.plot(in_order, abs_diffs)\n",
    "# plt.show()"
   ]
  },
  {
   "cell_type": "code",
   "execution_count": null,
   "metadata": {},
   "outputs": [],
   "source": [
    "def compare_cfs(isi_a, isi_b):\n",
    "    \"\"\"\n",
    "    Compare two arrays of ISIs and return change in expectation for each CF\n",
    "    \"\"\"\n",
    "    "
   ]
  }
 ],
 "metadata": {
  "kernelspec": {
   "display_name": "Python 3",
   "language": "python",
   "name": "python3"
  },
  "language_info": {
   "codemirror_mode": {
    "name": "ipython",
    "version": 3
   },
   "file_extension": ".py",
   "mimetype": "text/x-python",
   "name": "python",
   "nbconvert_exporter": "python",
   "pygments_lexer": "ipython3",
   "version": "3.11.3"
  },
  "orig_nbformat": 4
 },
 "nbformat": 4,
 "nbformat_minor": 2
}
