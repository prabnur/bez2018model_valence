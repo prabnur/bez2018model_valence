{
 "cells": [
  {
   "cell_type": "code",
   "execution_count": 11,
   "metadata": {},
   "outputs": [],
   "source": [
    "from analysis.probability.simple import simple_posneg\n",
    "from evaluate import evaluate_single\n",
    "\n",
    "def eval_simple(note):\n",
    "    return evaluate_single(simple_posneg(note), root_note=note)"
   ]
  },
  {
   "cell_type": "code",
   "execution_count": 12,
   "metadata": {},
   "outputs": [],
   "source": [
    "import numpy as np\n",
    "from analysis.musical import consonance_ordered_notes, empirical_probabilities\n",
    "from analysis.spike_tensor import generate_spike_tensor\n",
    "from cache import get_spikes\n",
    "from evaluate import predicted_consonance_scores, predicted_probabilities\n",
    "\n",
    "root_note = \"C4\"\n",
    "notes = consonance_ordered_notes(root_note)\n",
    "notes_spikes = [get_spikes(note) for note in notes]\n",
    "consonance_ordered_tensors = [generate_spike_tensor(spikes) for spikes in notes_spikes]\n",
    "\n",
    "root_tensor = generate_spike_tensor(get_spikes(root_note))\n",
    "probability_tensor = simple_posneg(root_note)\n",
    "\n",
    "def try_eval(tensors, metric, debug=False):\n",
    "    scores = predicted_consonance_scores(probability_tensor, tensors, root_tensor)\n",
    "\n",
    "    P_predicted = predicted_probabilities(scores)\n",
    "\n",
    "    if debug:\n",
    "        def print_arr(arr):\n",
    "            print(np.round(np.array(arr), 3))\n",
    "        print(\"Scores\")\n",
    "        print_arr(scores)\n",
    "        print(\"P_predicted\")\n",
    "        print_arr(P_predicted)\n",
    "        print(\"P_empirical\")\n",
    "        print_arr(empirical_probabilities())\n",
    "\n",
    "    print(metric(P_predicted))"
   ]
  },
  {
   "cell_type": "code",
   "execution_count": 13,
   "metadata": {},
   "outputs": [
    {
     "name": "stdout",
     "output_type": "stream",
     "text": [
      "Scores\n",
      "[-0.82945544 -0.92553053 -0.93005259 -0.93908423 -0.89713392 -0.92324783\n",
      " -0.93824591 -0.91400843 -0.92349832 -0.90880194 -0.87044873 -0.90813502]\n",
      "P_predicted\n",
      "[0.3033717077339259, 0.03750664961348267, 0.02499292594312205, 0.0, 0.11608753720953043, 0.04382349945104557, 0.0023198662154283157, 0.0693913339973556, 0.04313031261672915, 0.08379906565855662, 0.18993248520107645, 0.08564461635974727]\n",
      "P_empirical\n",
      "[0.14666666666666667, 0.13333333333333333, 0.12, 0.10666666666666667, 0.10666666666666667, 0.09333333333333334, 0.08, 0.06666666666666667, 0.05333333333333334, 0.05333333333333334, 0.02666666666666667, 0.013333333333333334]\n",
      "0.40173398181449904\n"
     ]
    }
   ],
   "source": [
    "from doctest import debug\n",
    "from evaluate import js_divergence\n",
    "\n",
    "\n",
    "try_eval(consonance_ordered_tensors, js_divergence, debug=True)"
   ]
  },
  {
   "cell_type": "code",
   "execution_count": 6,
   "metadata": {},
   "outputs": [],
   "source": [
    "import numpy as np\n",
    "\n",
    "def collect_data(metric, N=10):\n",
    "    data = []\n",
    "    for i in range(N):\n",
    "        A = consonance_ordered_tensors[0][0][0]\n",
    "        np.random.shuffle(consonance_ordered_tensors)\n",
    "        B = consonance_ordered_tensors[0][0][0]\n",
    "        if not np.array_equal(A, B):\n",
    "            value = try_eval(consonance_ordered_tensors, metric)\n",
    "            data.append(value)"
   ]
  },
  {
   "cell_type": "code",
   "execution_count": 7,
   "metadata": {},
   "outputs": [
    {
     "name": "stdout",
     "output_type": "stream",
     "text": [
      "0.47624076106871727\n",
      "0.38893976009743936\n",
      "0.3561764366075249\n",
      "0.4085838509635776\n",
      "0.3846056120044244\n",
      "0.37700960002463074\n",
      "0.4199492153988373\n",
      "0.37209464946343135\n",
      "0.29609218702414664\n",
      "0.33308088483802717\n"
     ]
    }
   ],
   "source": [
    "from evaluate import js_divergence\n",
    "\n",
    "\n",
    "collect_data(js_divergence)"
   ]
  },
  {
   "cell_type": "code",
   "execution_count": null,
   "metadata": {},
   "outputs": [],
   "source": [
    "import os\n",
    "\n",
    "from cache import SPIKES_DIR\n",
    "\n",
    "\n",
    "root_note = \"C4\"\n",
    "notes = consonance_ordered_notes(root_note)\n",
    "notes = [notes[0], notes[-1]]\n",
    "notes_spikes = [get_spikes(note) for note in notes]\n",
    "tensors = [generate_spike_tensor(spikes) for spikes in notes_spikes]\n",
    "\n",
    "white_noise_spikes = np.load(os.path.join(SPIKES_DIR, \"white_noise.npy\"))\n",
    "tensors.append(generate_spike_tensor(white_noise_spikes))\n",
    "\n",
    "root_tensor = generate_spike_tensor(get_spikes(root_note))\n",
    "probability_tensor = simple_posneg(root_note)\n",
    "\n",
    "scores = predicted_consonance_scores(probability_tensor, tensors, root_tensor)\n",
    "print(\"Scores\")\n",
    "print(scores)\n",
    "\n",
    "P_predicted = predicted_probabilities(scores)\n",
    "print(\"P_predicted\")\n",
    "print(P_predicted)\n",
    "\n"
   ]
  },
  {
   "cell_type": "code",
   "execution_count": 2,
   "metadata": {},
   "outputs": [
    {
     "name": "stdout",
     "output_type": "stream",
     "text": [
      "C4: 60\n",
      "C#4: 57\n",
      "D4: 64\n",
      "D#4: 68\n",
      "E4: 67\n",
      "F4: 64\n",
      "F#4: 71\n",
      "G4: 73\n",
      "G#4: 71\n",
      "A4: 75\n",
      "A#4: 66\n",
      "B4: 71\n"
     ]
    }
   ],
   "source": [
    "keys = [\"C4\", \"C#4\", \"D4\", \"D#4\", \"E4\", \"F4\", \"F#4\", \"G4\", \"G#4\", \"A4\", \"A#4\", \"B4\"]\n",
    "\n",
    "for key in keys:\n",
    "    print(f\"{key}: {eval_simple(key)}\")"
   ]
  },
  {
   "cell_type": "code",
   "execution_count": null,
   "metadata": {},
   "outputs": [],
   "source": [
    "# collect_data(kl_divergence_reverse)\n",
    "# collect_data(kl_divergence)"
   ]
  }
 ],
 "metadata": {
  "kernelspec": {
   "display_name": "Python 3",
   "language": "python",
   "name": "python3"
  },
  "language_info": {
   "codemirror_mode": {
    "name": "ipython",
    "version": 3
   },
   "file_extension": ".py",
   "mimetype": "text/x-python",
   "name": "python",
   "nbconvert_exporter": "python",
   "pygments_lexer": "ipython3",
   "version": "3.12.0"
  }
 },
 "nbformat": 4,
 "nbformat_minor": 2
}
